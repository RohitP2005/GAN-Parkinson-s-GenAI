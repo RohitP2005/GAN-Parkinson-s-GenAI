{
 "cells": [
  {
   "cell_type": "markdown",
   "metadata": {},
   "source": [
    "# Parkinson MRI Preprocessing"
   ]
  },
  {
   "cell_type": "markdown",
   "metadata": {},
   "source": [
    "### Data Acquiring"
   ]
  },
  {
   "cell_type": "code",
   "execution_count": 3,
   "metadata": {},
   "outputs": [
    {
     "name": "stdout",
     "output_type": "stream",
     "text": [
      "--2024-10-02 04:15:32--  https://fcp-indi.s3.amazonaws.com/data/Projects/INDI/umf_pd/neurocon.tar.gz\n",
      "Loaded CA certificate '/etc/ssl/certs/ca-certificates.crt'\n",
      "Resolving fcp-indi.s3.amazonaws.com (fcp-indi.s3.amazonaws.com)... 52.217.235.73, 3.5.27.94, 52.217.232.89, ...\n",
      "Connecting to fcp-indi.s3.amazonaws.com (fcp-indi.s3.amazonaws.com)|52.217.235.73|:443... connected.\n",
      "HTTP request sent, awaiting response... 200 OK\n",
      "Length: 1617681469 (1.5G) [application/x-gzip]\n",
      "Saving to: ‘neurocon.tar.gz’\n",
      "\n",
      "neurocon.tar.gz       0%[                    ]  32.58K  49.0KB/s               ^C\n",
      "\n",
      "gzip: stdin: unexpected end of file\n",
      "tar: Unexpected EOF in archive\n",
      "tar: Unexpected EOF in archive\n",
      "tar: Error is not recoverable: exiting now\n"
     ]
    }
   ],
   "source": [
    "import os\n",
    "\n",
    "# URL and file paths\n",
    "url = \"https://fcp-indi.s3.amazonaws.com/data/Projects/INDI/umf_pd/neurocon.tar.gz\"\n",
    "filename = \"neurocon.tar.gz\"\n",
    "extracted_folder = \"neurocon\"\n",
    "\n",
    "# Download the file if it doesn't exist\n",
    "if not os.path.exists(filename):\n",
    "    !wget {url}\n",
    "\n",
    "# Extract the file if the folder doesn't exist\n",
    "if not os.path.exists(extracted_folder):\n",
    "    !tar -xzf {filename}\n",
    "\n",
    "# Remove the archive\n",
    "if os.path.exists(filename):\n",
    "    os.remove(filename)\n"
   ]
  },
  {
   "cell_type": "markdown",
   "metadata": {},
   "source": [
    "##### Loading labels tsv file"
   ]
  },
  {
   "cell_type": "code",
   "execution_count": 3,
   "metadata": {},
   "outputs": [
    {
     "name": "stdout",
     "output_type": "stream",
     "text": [
      "<class 'pandas.core.frame.DataFrame'>\n",
      "RangeIndex: 43 entries, 0 to 42\n",
      "Data columns (total 10 columns):\n",
      " #   Column           Non-Null Count  Dtype  \n",
      "---  ------           --------------  -----  \n",
      " 0   code             43 non-null     object \n",
      " 1   status           43 non-null     object \n",
      " 2   UPDRS_motor_ON   27 non-null     float64\n",
      " 3   UPDRS_motor_OFF  27 non-null     float64\n",
      " 4   Treatment        27 non-null     object \n",
      " 5   age              43 non-null     int64  \n",
      " 6   sex              43 non-null     object \n",
      " 7   H&Y              27 non-null     float64\n",
      " 8   birthdate        43 non-null     object \n",
      " 9   scan_date        43 non-null     object \n",
      "dtypes: float64(3), int64(1), object(6)\n",
      "memory usage: 3.5+ KB\n"
     ]
    },
    {
     "data": {
      "text/html": [
       "<div>\n",
       "<style scoped>\n",
       "    .dataframe tbody tr th:only-of-type {\n",
       "        vertical-align: middle;\n",
       "    }\n",
       "\n",
       "    .dataframe tbody tr th {\n",
       "        vertical-align: top;\n",
       "    }\n",
       "\n",
       "    .dataframe thead th {\n",
       "        text-align: right;\n",
       "    }\n",
       "</style>\n",
       "<table border=\"1\" class=\"dataframe\">\n",
       "  <thead>\n",
       "    <tr style=\"text-align: right;\">\n",
       "      <th></th>\n",
       "      <th>code</th>\n",
       "      <th>status</th>\n",
       "      <th>UPDRS_motor_ON</th>\n",
       "      <th>UPDRS_motor_OFF</th>\n",
       "      <th>Treatment</th>\n",
       "      <th>age</th>\n",
       "      <th>sex</th>\n",
       "      <th>H&amp;Y</th>\n",
       "      <th>birthdate</th>\n",
       "      <th>scan_date</th>\n",
       "    </tr>\n",
       "  </thead>\n",
       "  <tbody>\n",
       "    <tr>\n",
       "      <th>0</th>\n",
       "      <td>control032014</td>\n",
       "      <td>NORMAL</td>\n",
       "      <td>NaN</td>\n",
       "      <td>NaN</td>\n",
       "      <td>NaN</td>\n",
       "      <td>53</td>\n",
       "      <td>M</td>\n",
       "      <td>NaN</td>\n",
       "      <td>6/16/1959</td>\n",
       "      <td>11/4/2012</td>\n",
       "    </tr>\n",
       "    <tr>\n",
       "      <th>1</th>\n",
       "      <td>control032015</td>\n",
       "      <td>NORMAL</td>\n",
       "      <td>NaN</td>\n",
       "      <td>NaN</td>\n",
       "      <td>NaN</td>\n",
       "      <td>64</td>\n",
       "      <td>M</td>\n",
       "      <td>NaN</td>\n",
       "      <td>1/30/1948</td>\n",
       "      <td>11/4/2012</td>\n",
       "    </tr>\n",
       "    <tr>\n",
       "      <th>2</th>\n",
       "      <td>control032016</td>\n",
       "      <td>NORMAL</td>\n",
       "      <td>NaN</td>\n",
       "      <td>NaN</td>\n",
       "      <td>NaN</td>\n",
       "      <td>58</td>\n",
       "      <td>F</td>\n",
       "      <td>NaN</td>\n",
       "      <td>10/5/1954</td>\n",
       "      <td>11/4/2012</td>\n",
       "    </tr>\n",
       "    <tr>\n",
       "      <th>3</th>\n",
       "      <td>control032017</td>\n",
       "      <td>NORMAL</td>\n",
       "      <td>NaN</td>\n",
       "      <td>NaN</td>\n",
       "      <td>NaN</td>\n",
       "      <td>77</td>\n",
       "      <td>F</td>\n",
       "      <td>NaN</td>\n",
       "      <td>3/27/1935</td>\n",
       "      <td>11/11/2012</td>\n",
       "    </tr>\n",
       "    <tr>\n",
       "      <th>4</th>\n",
       "      <td>control032018</td>\n",
       "      <td>NORMAL</td>\n",
       "      <td>NaN</td>\n",
       "      <td>NaN</td>\n",
       "      <td>NaN</td>\n",
       "      <td>55</td>\n",
       "      <td>F</td>\n",
       "      <td>NaN</td>\n",
       "      <td>4/3/1957</td>\n",
       "      <td>11/11/2012</td>\n",
       "    </tr>\n",
       "  </tbody>\n",
       "</table>\n",
       "</div>"
      ],
      "text/plain": [
       "            code  status  UPDRS_motor_ON  UPDRS_motor_OFF Treatment  age sex  \\\n",
       "0  control032014  NORMAL             NaN              NaN       NaN   53   M   \n",
       "1  control032015  NORMAL             NaN              NaN       NaN   64   M   \n",
       "2  control032016  NORMAL             NaN              NaN       NaN   58   F   \n",
       "3  control032017  NORMAL             NaN              NaN       NaN   77   F   \n",
       "4  control032018  NORMAL             NaN              NaN       NaN   55   F   \n",
       "\n",
       "   H&Y  birthdate   scan_date  \n",
       "0  NaN  6/16/1959   11/4/2012  \n",
       "1  NaN  1/30/1948   11/4/2012  \n",
       "2  NaN  10/5/1954   11/4/2012  \n",
       "3  NaN  3/27/1935  11/11/2012  \n",
       "4  NaN   4/3/1957  11/11/2012  "
      ]
     },
     "execution_count": 3,
     "metadata": {},
     "output_type": "execute_result"
    }
   ],
   "source": [
    "import pandas as pd\n",
    "\n",
    "neurocon_dir = './neurocon'\n",
    "tsv_file = os.path.join(neurocon_dir, \"neurocon_patients.tsv\")\n",
    "metadata = pd.read_csv(tsv_file, sep='\\t')\n",
    "\n",
    "metadata.info()\n",
    "metadata.head()"
   ]
  },
  {
   "cell_type": "markdown",
   "metadata": {},
   "source": [
    "##### Create X and Y var with Max dimn definition"
   ]
  },
  {
   "cell_type": "code",
   "execution_count": 4,
   "metadata": {},
   "outputs": [],
   "source": [
    "# Create lists to store the MRI data and the corresponding labels\n",
    "X = []\n",
    "Y = []\n",
    "max_dims = [0, 0, 0]  # To track maximum dimensions of MRI scans"
   ]
  },
  {
   "cell_type": "markdown",
   "metadata": {},
   "source": [
    "##### Loading MRI image and map with labels"
   ]
  },
  {
   "cell_type": "code",
   "execution_count": 5,
   "metadata": {},
   "outputs": [],
   "source": [
    "import nibabel as nib\n",
    "import numpy as np\n",
    "\n",
    "\n",
    "# Iterate through the folders in 'neurocon' to load MRI data and match with labels\n",
    "for patient_folder in os.listdir(neurocon_dir):\n",
    "    patient_folder_path = os.path.join(neurocon_dir, patient_folder)\n",
    "    \n",
    "    # Skip the .tsv file itself\n",
    "    if not os.path.isdir(patient_folder_path):\n",
    "        continue\n",
    "    \n",
    "    # Look for the MRI scan inside the 'anat' subfolder\n",
    "    anat_folder = os.path.join(patient_folder_path, \"anat\")\n",
    "    if os.path.isdir(anat_folder):\n",
    "        nii_files = [f for f in os.listdir(anat_folder) if f.endswith('.nii.gz')]\n",
    "        \n",
    "        if nii_files:\n",
    "            nii_path = os.path.join(anat_folder, nii_files[0])\n",
    "            \n",
    "            # Load the MRI scan as a NumPy array\n",
    "            mri_data = nib.load(nii_path).get_fdata()\n",
    "            \n",
    "            # Find maximum dimensions\n",
    "            max_dims = np.maximum(max_dims, mri_data.shape)\n",
    "            \n",
    "            # Append the MRI data to X\n",
    "            X.append(mri_data)\n",
    "            \n",
    "            # Extract the patient code and status from the metadata\n",
    "            patient_code = patient_folder.replace(\"sub-\", \"\")\n",
    "            status = metadata.loc[metadata['code'] == patient_code, 'status'].values[0]\n",
    "            \n",
    "            # Append the status (Control or PD) to Y\n",
    "            Y.append(status)\n"
   ]
  },
  {
   "cell_type": "markdown",
   "metadata": {},
   "source": [
    "##### Padding the MRI images to match max-DIM"
   ]
  },
  {
   "cell_type": "code",
   "execution_count": 6,
   "metadata": {},
   "outputs": [],
   "source": [
    "# Pad the MRI images to match the maximum dimensions\n",
    "X_padded = []\n",
    "for mri_data in X:\n",
    "    # Create an empty array with the maximum dimensions, filled with zeros\n",
    "    padded_image = np.zeros(max_dims)\n",
    "    \n",
    "    # Get the original shape of the MRI data\n",
    "    original_shape = mri_data.shape\n",
    "    \n",
    "    # Place the original image in the top-left corner of the padded image\n",
    "    padded_image[:original_shape[0], :original_shape[1], :original_shape[2]] = mri_data\n",
    "    \n",
    "    # Append the padded image to the new list\n",
    "    X_padded.append(padded_image)"
   ]
  },
  {
   "cell_type": "markdown",
   "metadata": {},
   "source": [
    "##### Convert to Numpy array"
   ]
  },
  {
   "cell_type": "code",
   "execution_count": 7,
   "metadata": {},
   "outputs": [],
   "source": [
    "# Convert X_padded and Y into NumPy arrays\n",
    "X_padded = np.array(X_padded)\n",
    "Y = np.array(Y)"
   ]
  },
  {
   "cell_type": "markdown",
   "metadata": {},
   "source": [
    "##### Reshape 3D to 2D to apply SMOTE"
   ]
  },
  {
   "cell_type": "code",
   "execution_count": 8,
   "metadata": {},
   "outputs": [],
   "source": [
    "# Reshape X_padded for SMOTE to apply; SMOTE requires 2D data\n",
    "n_samples, *image_dims = X_padded.shape\n",
    "X_flat = X_padded.reshape(n_samples, -1)  # Flatten each image into a 1D array\n"
   ]
  },
  {
   "cell_type": "markdown",
   "metadata": {},
   "source": [
    "##### Apply SMOTE"
   ]
  },
  {
   "cell_type": "code",
   "execution_count": 9,
   "metadata": {},
   "outputs": [],
   "source": [
    "from imblearn.over_sampling import SMOTE\n",
    "\n",
    "# Use SMOTE to balance the classes\n",
    "sm = SMOTE(random_state=42)\n",
    "X_resampled, Y_resampled = sm.fit_resample(X_flat, Y)"
   ]
  },
  {
   "cell_type": "markdown",
   "metadata": {},
   "source": [
    "##### Reshape back to 3D"
   ]
  },
  {
   "cell_type": "code",
   "execution_count": 10,
   "metadata": {},
   "outputs": [],
   "source": [
    "# Reshape X_resampled back to the original image dimensions\n",
    "X_resampled = X_resampled.reshape(-1, *image_dims)"
   ]
  },
  {
   "cell_type": "markdown",
   "metadata": {},
   "source": [
    "##### Save the data using h5py "
   ]
  },
  {
   "cell_type": "code",
   "execution_count": 11,
   "metadata": {},
   "outputs": [
    {
     "name": "stdout",
     "output_type": "stream",
     "text": [
      "Data saved to mri_data_balanced.h5\n"
     ]
    }
   ],
   "source": [
    "import h5py\n",
    "\n",
    "# Save the balanced X_resampled and Y_resampled into an HDF5 file\n",
    "output_file = \"mri_data_balanced.h5\"\n",
    "with h5py.File(output_file, 'w') as h5f:\n",
    "    h5f.create_dataset('X', data=X_resampled)\n",
    "    h5f.create_dataset('Y', data=Y_resampled.astype('S10'))  # Convert Y to bytes to store as a string\n",
    "\n",
    "print(f\"Data saved to {output_file}\")"
   ]
  }
 ],
 "metadata": {
  "kernelspec": {
   "display_name": "cts-mri",
   "language": "python",
   "name": "python3"
  },
  "language_info": {
   "codemirror_mode": {
    "name": "ipython",
    "version": 3
   },
   "file_extension": ".py",
   "mimetype": "text/x-python",
   "name": "python",
   "nbconvert_exporter": "python",
   "pygments_lexer": "ipython3",
   "version": "3.12.6"
  }
 },
 "nbformat": 4,
 "nbformat_minor": 2
}
